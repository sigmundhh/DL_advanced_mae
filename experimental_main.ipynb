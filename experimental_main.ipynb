{
 "cells": [
  {
   "cell_type": "code",
   "execution_count": 1,
   "id": "4d53492d",
   "metadata": {},
   "outputs": [],
   "source": [
    "import sys\n",
    "import os\n",
    "import requests\n",
    "\n",
    "import torch\n",
    "import numpy as np\n",
    "\n",
    "import matplotlib.pyplot as plt\n",
    "from PIL import Image"
   ]
  },
  {
   "cell_type": "code",
   "execution_count": 1,
   "id": "1e381f0d",
   "metadata": {},
   "outputs": [
    {
     "name": "stderr",
     "output_type": "stream",
     "text": [
      "Traceback (most recent call last):\n",
      "  File \"mae/main_pretrain.py\", line 19, in <module>\n",
      "    import torch\n",
      "ModuleNotFoundError: No module named 'torch'\n"
     ]
    }
   ],
   "source": [
    "!python mae/main_pretrain.py  --model mae_vit_base_patch16 \\\n",
    "                              --batch_size 64 \\\n",
    "                              --norm_pix_loss \\\n",
    "                              --mask_ratio 0.75 \\  # change this\n",
    "                              --epochs 100 \\\n",
    "                              --warmup_epochs 40 \\\n",
    "                              --blr 1.5e-4 \\\n",
    "                              --weight_decay 0.05 \\\n",
    "                              --encoder_dim 768 \\\n",
    "                              --encoder_depth 12 \\\n",
    "                              --decoder_dim 512 \\\n",
    "                              --decoder_depth 1 \\\n",
    "                              --data_path ../imagenet-mini"
   ]
  },
  {
   "cell_type": "code",
   "execution_count": 2,
   "id": "d5f0fce1",
   "metadata": {},
   "outputs": [
    {
     "name": "stderr",
     "output_type": "stream",
     "text": [
      "Traceback (most recent call last):\n",
      "  File \"mae/main_finetune.py\", line 20, in <module>\n",
      "    import torch\n",
      "ModuleNotFoundError: No module named 'torch'\n"
     ]
    }
   ],
   "source": [
    "!python mae/main_finetune.py --finetune output_dir/latest_model.pth \\\n",
    "                             --model vit_base_patch16 \\\n",
    "                             --batch_size 64 \\\n",
    "                             --weight_decay 0.05 \\\n",
    "                             --drop_path 0.1 \\\n",
    "                             --reprob 0.25 \\\n",
    "                             --mixup 0.8 \\\n",
    "                             --mask_ratio 0.75 \\ # change this \n",
    "                             --cutmix 1.0 \\\n",
    "                             --dist_eval \\\n",
    "                             --encoder_dim 768 \\\n",
    "                             --encoder_depth 12 \\\n",
    "                             --decoder_dim 512 \\\n",
    "                             --decoder_depth 1 \\\n",
    "                             --epoch 60 \\\n",
    "                             --data_path ../imagenet-mini"
   ]
  },
  {
   "cell_type": "code",
   "execution_count": null,
   "id": "ded9c8a9",
   "metadata": {},
   "outputs": [],
   "source": [
    "!python shutdown.py"
   ]
  }
 ],
 "metadata": {
  "kernelspec": {
   "display_name": "Python 3.7.13 ('eq2425')",
   "language": "python",
   "name": "python3"
  },
  "language_info": {
   "codemirror_mode": {
    "name": "ipython",
    "version": 3
   },
   "file_extension": ".py",
   "mimetype": "text/x-python",
   "name": "python",
   "nbconvert_exporter": "python",
   "pygments_lexer": "ipython3",
   "version": "3.7.13"
  },
  "vscode": {
   "interpreter": {
    "hash": "3ddec72a4b8c0a0584457dff43ff519a798ddec0986f33931297efae7f12723d"
   }
  }
 },
 "nbformat": 4,
 "nbformat_minor": 5
}
