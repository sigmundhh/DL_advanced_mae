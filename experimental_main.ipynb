{
 "cells": [
  {
   "cell_type": "code",
   "execution_count": 3,
   "id": "4d53492d",
   "metadata": {},
   "outputs": [],
   "source": [
    "import sys\n",
    "import os\n",
    "import requests\n",
    "\n",
    "import torch\n",
    "import numpy as np\n",
    "\n",
    "import matplotlib.pyplot as plt\n",
    "from PIL import Image"
   ]
  },
  {
   "cell_type": "code",
   "execution_count": 4,
   "id": "1e381f0d",
   "metadata": {},
   "outputs": [
    {
     "name": "stdout",
     "output_type": "stream",
     "text": [
      "python: can't open file 'mae/main_cnn_pretrain.py': [Errno 2] No such file or directory\r\n"
     ]
    }
   ],
   "source": [
    "!python mae/main_cnn_pretrain.py  --model cnn \\\n",
    "                                  --epochs 100 \\\n",
    "                                  --data_path ./imagenet-mini"
   ]
  },
  {
   "cell_type": "code",
   "execution_count": null,
   "id": "18db32d1",
   "metadata": {},
   "outputs": [],
   "source": [
    "!python mae/main_cnn_finetune.py  --finetune output_dir/latest_model.pth \\\n",
    "                                  --model cnn \\\n",
    "                                  --epoch 60 \\\n",
    "                                  --data_path ./imagenet-mini"
   ]
  },
  {
   "cell_type": "code",
   "execution_count": null,
   "id": "ded9c8a9",
   "metadata": {},
   "outputs": [],
   "source": [
    "!python shutdown.py"
   ]
  }
 ],
 "metadata": {
  "kernelspec": {
   "display_name": "Python 3",
   "language": "python",
   "name": "python3"
  },
  "language_info": {
   "codemirror_mode": {
    "name": "ipython",
    "version": 3
   },
   "file_extension": ".py",
   "mimetype": "text/x-python",
   "name": "python",
   "nbconvert_exporter": "python",
   "pygments_lexer": "ipython3",
   "version": "3.7.12"
  },
  "vscode": {
   "interpreter": {
    "hash": "3ddec72a4b8c0a0584457dff43ff519a798ddec0986f33931297efae7f12723d"
   }
  }
 },
 "nbformat": 4,
 "nbformat_minor": 5
}
