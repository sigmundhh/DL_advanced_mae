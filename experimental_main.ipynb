{
 "cells": [
  {
   "cell_type": "code",
   "execution_count": 3,
   "id": "4d53492d",
   "metadata": {},
   "outputs": [],
   "source": [
    "import sys\n",
    "import os\n",
    "import requests\n",
    "\n",
    "import torch\n",
    "import numpy as np\n",
    "\n",
    "import matplotlib.pyplot as plt\n",
    "from PIL import Image"
   ]
  },
  {
   "cell_type": "code",
   "execution_count": null,
   "id": "57723413",
   "metadata": {},
   "outputs": [],
   "source": []
  },
  {
   "cell_type": "code",
   "execution_count": 4,
   "id": "1e381f0d",
   "metadata": {},
   "outputs": [
    {
     "name": "stdout",
     "output_type": "stream",
     "text": [
      "python: can't open file 'mae/main_cnn_pretrain.py': [Errno 2] No such file or directory\r\n"
     ]
    }
   ],
   "source": [
    "!python mae/main_cnn_pretrain.py --batch_size 64 \\\n",
    "                                --accum_iter 1 \\\n",
    "                                --norm_pix_loss \\\n",
    "                                --mask_ratio 0.75 \\\n",
    "                                --epochs 100 \\\n",
    "                                --warmup_epochs 40 \\\n",
    "                                --model 'cnn' \\\n",
    "                                --blr 1e-4 --weight_decay 0.05 \\\n",
    "                                --data_path ./imagenet-mini"
   ]
  },
  {
   "cell_type": "code",
   "execution_count": null,
   "id": "18db32d1",
   "metadata": {},
   "outputs": [],
   "source": [
    "!python mae/main_cnn_finetune.py  --finetune output_dir/latest_model.pth \\\n",
    "                                  --model 'cnn' \\\n",
    "                                  --batch_size 64 \\\n",
    "                                  --epoch 60 \\\n",
    "                                  --weight_decay 0.05 \\\n",
    "                                  --drop_path 0.1 \\\n",
    "                                  --reprob 0.25 \\\n",
    "                                  --mixup 0.8 \\\n",
    "                                  --cutmix 1.0 \\\n",
    "                                  --dist_eval \\\n",
    "                                  --data_path ./imagenet-mini"
   ]
  },
  {
   "cell_type": "code",
   "execution_count": null,
   "id": "ded9c8a9",
   "metadata": {},
   "outputs": [],
   "source": [
    "!python shutdown.py"
   ]
  }
 ],
 "metadata": {
  "kernelspec": {
   "display_name": "Python 3.10.8 ('yolo')",
   "language": "python",
   "name": "python3"
  },
  "language_info": {
   "codemirror_mode": {
    "name": "ipython",
    "version": 3
   },
   "file_extension": ".py",
   "mimetype": "text/x-python",
   "name": "python",
   "nbconvert_exporter": "python",
   "pygments_lexer": "ipython3",
   "version": "3.10.8"
  },
  "vscode": {
   "interpreter": {
    "hash": "1af3abf4a4a11606cf0044912ce5bd2a900cf2a0055fcf0a4c1f1b983ad0fb66"
   }
  }
 },
 "nbformat": 4,
 "nbformat_minor": 5
}
